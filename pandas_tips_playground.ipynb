{
 "cells": [
  {
   "cell_type": "code",
   "execution_count": 121,
   "metadata": {},
   "outputs": [],
   "source": [
    "import pandas as pd\n",
    "import numpy as np\n",
    "import re"
   ]
  },
  {
   "cell_type": "code",
   "execution_count": 20,
   "metadata": {},
   "outputs": [],
   "source": [
    "# dataframe.expanding()\n",
    "# The method works similiar to cummulative calculation\n",
    "# df = pd.DataFrame(np.random.randint(0,10,size=(100,1)), columns=list('A'))\n",
    "df = pd.DataFrame({'A':[x for x in range(20)], 'B':[x*x for x in range(20)]})"
   ]
  },
  {
   "cell_type": "code",
   "execution_count": 19,
   "metadata": {},
   "outputs": [
    {
     "data": {
      "text/html": [
       "<div>\n",
       "<style scoped>\n",
       "    .dataframe tbody tr th:only-of-type {\n",
       "        vertical-align: middle;\n",
       "    }\n",
       "\n",
       "    .dataframe tbody tr th {\n",
       "        vertical-align: top;\n",
       "    }\n",
       "\n",
       "    .dataframe thead th {\n",
       "        text-align: right;\n",
       "    }\n",
       "</style>\n",
       "<table border=\"1\" class=\"dataframe\">\n",
       "  <thead>\n",
       "    <tr style=\"text-align: right;\">\n",
       "      <th></th>\n",
       "      <th>A</th>\n",
       "      <th>B</th>\n",
       "    </tr>\n",
       "  </thead>\n",
       "  <tbody>\n",
       "    <tr>\n",
       "      <th>0</th>\n",
       "      <td>0.0</td>\n",
       "      <td>0.0</td>\n",
       "    </tr>\n",
       "    <tr>\n",
       "      <th>1</th>\n",
       "      <td>1.0</td>\n",
       "      <td>2.0</td>\n",
       "    </tr>\n",
       "    <tr>\n",
       "      <th>2</th>\n",
       "      <td>2.0</td>\n",
       "      <td>6.0</td>\n",
       "    </tr>\n",
       "    <tr>\n",
       "      <th>3</th>\n",
       "      <td>3.0</td>\n",
       "      <td>12.0</td>\n",
       "    </tr>\n",
       "    <tr>\n",
       "      <th>4</th>\n",
       "      <td>4.0</td>\n",
       "      <td>20.0</td>\n",
       "    </tr>\n",
       "    <tr>\n",
       "      <th>5</th>\n",
       "      <td>5.0</td>\n",
       "      <td>30.0</td>\n",
       "    </tr>\n",
       "    <tr>\n",
       "      <th>6</th>\n",
       "      <td>6.0</td>\n",
       "      <td>42.0</td>\n",
       "    </tr>\n",
       "    <tr>\n",
       "      <th>7</th>\n",
       "      <td>7.0</td>\n",
       "      <td>56.0</td>\n",
       "    </tr>\n",
       "    <tr>\n",
       "      <th>8</th>\n",
       "      <td>8.0</td>\n",
       "      <td>72.0</td>\n",
       "    </tr>\n",
       "    <tr>\n",
       "      <th>9</th>\n",
       "      <td>9.0</td>\n",
       "      <td>90.0</td>\n",
       "    </tr>\n",
       "    <tr>\n",
       "      <th>10</th>\n",
       "      <td>10.0</td>\n",
       "      <td>110.0</td>\n",
       "    </tr>\n",
       "    <tr>\n",
       "      <th>11</th>\n",
       "      <td>11.0</td>\n",
       "      <td>132.0</td>\n",
       "    </tr>\n",
       "    <tr>\n",
       "      <th>12</th>\n",
       "      <td>12.0</td>\n",
       "      <td>156.0</td>\n",
       "    </tr>\n",
       "    <tr>\n",
       "      <th>13</th>\n",
       "      <td>13.0</td>\n",
       "      <td>182.0</td>\n",
       "    </tr>\n",
       "    <tr>\n",
       "      <th>14</th>\n",
       "      <td>14.0</td>\n",
       "      <td>210.0</td>\n",
       "    </tr>\n",
       "    <tr>\n",
       "      <th>15</th>\n",
       "      <td>15.0</td>\n",
       "      <td>240.0</td>\n",
       "    </tr>\n",
       "    <tr>\n",
       "      <th>16</th>\n",
       "      <td>16.0</td>\n",
       "      <td>272.0</td>\n",
       "    </tr>\n",
       "    <tr>\n",
       "      <th>17</th>\n",
       "      <td>17.0</td>\n",
       "      <td>306.0</td>\n",
       "    </tr>\n",
       "    <tr>\n",
       "      <th>18</th>\n",
       "      <td>18.0</td>\n",
       "      <td>342.0</td>\n",
       "    </tr>\n",
       "    <tr>\n",
       "      <th>19</th>\n",
       "      <td>19.0</td>\n",
       "      <td>380.0</td>\n",
       "    </tr>\n",
       "  </tbody>\n",
       "</table>\n",
       "</div>"
      ],
      "text/plain": [
       "       A      B\n",
       "0    0.0    0.0\n",
       "1    1.0    2.0\n",
       "2    2.0    6.0\n",
       "3    3.0   12.0\n",
       "4    4.0   20.0\n",
       "5    5.0   30.0\n",
       "6    6.0   42.0\n",
       "7    7.0   56.0\n",
       "8    8.0   72.0\n",
       "9    9.0   90.0\n",
       "10  10.0  110.0\n",
       "11  11.0  132.0\n",
       "12  12.0  156.0\n",
       "13  13.0  182.0\n",
       "14  14.0  210.0\n",
       "15  15.0  240.0\n",
       "16  16.0  272.0\n",
       "17  17.0  306.0\n",
       "18  18.0  342.0\n",
       "19  19.0  380.0"
      ]
     },
     "execution_count": 19,
     "metadata": {},
     "output_type": "execute_result"
    }
   ],
   "source": [
    "df.expanding(min_periods=1, axis=1).sum()"
   ]
  },
  {
   "cell_type": "code",
   "execution_count": 23,
   "metadata": {},
   "outputs": [],
   "source": [
    "# dataframe.rolling()\n",
    "df_rolling = pd.DataFrame({'B': [0, 1, 2, np.nan, 4]},\n",
    "                  index = [pd.Timestamp('20130101 09:00:00'),\n",
    "                           pd.Timestamp('20130101 09:00:02'),\n",
    "                           pd.Timestamp('20130101 09:00:03'),\n",
    "                           pd.Timestamp('20130101 09:00:05'),\n",
    "                           pd.Timestamp('20130101 09:00:06')])\n"
   ]
  },
  {
   "cell_type": "code",
   "execution_count": 28,
   "metadata": {},
   "outputs": [
    {
     "data": {
      "text/html": [
       "<div>\n",
       "<style scoped>\n",
       "    .dataframe tbody tr th:only-of-type {\n",
       "        vertical-align: middle;\n",
       "    }\n",
       "\n",
       "    .dataframe tbody tr th {\n",
       "        vertical-align: top;\n",
       "    }\n",
       "\n",
       "    .dataframe thead th {\n",
       "        text-align: right;\n",
       "    }\n",
       "</style>\n",
       "<table border=\"1\" class=\"dataframe\">\n",
       "  <thead>\n",
       "    <tr style=\"text-align: right;\">\n",
       "      <th></th>\n",
       "      <th>B</th>\n",
       "    </tr>\n",
       "  </thead>\n",
       "  <tbody>\n",
       "    <tr>\n",
       "      <th>2013-01-01 09:00:00</th>\n",
       "      <td>NaN</td>\n",
       "    </tr>\n",
       "    <tr>\n",
       "      <th>2013-01-01 09:00:02</th>\n",
       "      <td>NaN</td>\n",
       "    </tr>\n",
       "    <tr>\n",
       "      <th>2013-01-01 09:00:03</th>\n",
       "      <td>3.0</td>\n",
       "    </tr>\n",
       "    <tr>\n",
       "      <th>2013-01-01 09:00:05</th>\n",
       "      <td>NaN</td>\n",
       "    </tr>\n",
       "    <tr>\n",
       "      <th>2013-01-01 09:00:06</th>\n",
       "      <td>NaN</td>\n",
       "    </tr>\n",
       "  </tbody>\n",
       "</table>\n",
       "</div>"
      ],
      "text/plain": [
       "                       B\n",
       "2013-01-01 09:00:00  NaN\n",
       "2013-01-01 09:00:02  NaN\n",
       "2013-01-01 09:00:03  3.0\n",
       "2013-01-01 09:00:05  NaN\n",
       "2013-01-01 09:00:06  NaN"
      ]
     },
     "execution_count": 28,
     "metadata": {},
     "output_type": "execute_result"
    }
   ],
   "source": [
    "df_rolling.rolling('2s', min_periods=2).sum()"
   ]
  },
  {
   "cell_type": "code",
   "execution_count": 3,
   "metadata": {},
   "outputs": [],
   "source": [
    "df_apply = pd.DataFrame({'All Date Consistent':['Consistent','Not Consistent','Consistent','Not Consistent'],\n",
    "'For Ingest':['Y','Y','N','N']})"
   ]
  },
  {
   "cell_type": "code",
   "execution_count": 7,
   "metadata": {},
   "outputs": [],
   "source": [
    "\n",
    "def ingest_reason(df):\n",
    "    if df['All Date Consistent'] == 'Consistent' and df['For Ingest'] == 'Y':\n",
    "        return 'Ingest: True Consistent'\n",
    "    elif df['All Date Consistent'] == 'Not Consistent' and df['For Ingest'] == 'Y' and df['exists_both']='both':\n",
    "        return 'Ingest: Business Consistent'\n",
    "    elif df['All Date Consistent'] == 'Not Consistent' and df['For Ingest'] == 'N' and df['exists_both']='left':\n",
    "        return 'No Ingest: Tehcnical Lead Review'\n",
    "    else:\n",
    "        return 'No Ingest: Single Reviewer'"
   ]
  },
  {
   "cell_type": "code",
   "execution_count": 8,
   "metadata": {},
   "outputs": [
    {
     "data": {
      "text/html": [
       "<div>\n",
       "<style scoped>\n",
       "    .dataframe tbody tr th:only-of-type {\n",
       "        vertical-align: middle;\n",
       "    }\n",
       "\n",
       "    .dataframe tbody tr th {\n",
       "        vertical-align: top;\n",
       "    }\n",
       "\n",
       "    .dataframe thead th {\n",
       "        text-align: right;\n",
       "    }\n",
       "</style>\n",
       "<table border=\"1\" class=\"dataframe\">\n",
       "  <thead>\n",
       "    <tr style=\"text-align: right;\">\n",
       "      <th></th>\n",
       "      <th>All Date Consistent</th>\n",
       "      <th>For Ingest</th>\n",
       "      <th>Ingest Reason</th>\n",
       "    </tr>\n",
       "  </thead>\n",
       "  <tbody>\n",
       "    <tr>\n",
       "      <th>0</th>\n",
       "      <td>Consistent</td>\n",
       "      <td>Y</td>\n",
       "      <td>Ingest: True Consistent</td>\n",
       "    </tr>\n",
       "    <tr>\n",
       "      <th>1</th>\n",
       "      <td>Not Consistent</td>\n",
       "      <td>Y</td>\n",
       "      <td>Ingest: Business Consistent</td>\n",
       "    </tr>\n",
       "    <tr>\n",
       "      <th>2</th>\n",
       "      <td>Consistent</td>\n",
       "      <td>N</td>\n",
       "      <td>No Ingest: Single Reviewer</td>\n",
       "    </tr>\n",
       "    <tr>\n",
       "      <th>3</th>\n",
       "      <td>Not Consistent</td>\n",
       "      <td>N</td>\n",
       "      <td>No Ingest: Tehcnical Lead Review</td>\n",
       "    </tr>\n",
       "  </tbody>\n",
       "</table>\n",
       "</div>"
      ],
      "text/plain": [
       "  All Date Consistent For Ingest                     Ingest Reason\n",
       "0          Consistent          Y           Ingest: True Consistent\n",
       "1      Not Consistent          Y       Ingest: Business Consistent\n",
       "2          Consistent          N        No Ingest: Single Reviewer\n",
       "3      Not Consistent          N  No Ingest: Tehcnical Lead Review"
      ]
     },
     "execution_count": 8,
     "metadata": {},
     "output_type": "execute_result"
    }
   ],
   "source": [
    "df_apply['Ingest Reason'] = df_apply.apply(ingest_reason, axis=1)\n",
    "df_apply"
   ]
  },
  {
   "cell_type": "code",
   "execution_count": 1,
   "metadata": {},
   "outputs": [
    {
     "ename": "NameError",
     "evalue": "name 'pd' is not defined",
     "output_type": "error",
     "traceback": [
      "\u001b[1;31m---------------------------------------------------------------------------\u001b[0m",
      "\u001b[1;31mNameError\u001b[0m                                 Traceback (most recent call last)",
      "\u001b[1;32m<ipython-input-1-c1647be83181>\u001b[0m in \u001b[0;36m<module>\u001b[1;34m\u001b[0m\n\u001b[1;32m----> 1\u001b[1;33m \u001b[0mdf_check_null\u001b[0m \u001b[1;33m=\u001b[0m \u001b[0mpd\u001b[0m\u001b[1;33m.\u001b[0m\u001b[0mDataFrame\u001b[0m\u001b[1;33m(\u001b[0m\u001b[1;33m{\u001b[0m\u001b[1;34m'A'\u001b[0m\u001b[1;33m:\u001b[0m\u001b[1;33m[\u001b[0m\u001b[1;36m1\u001b[0m\u001b[1;33m,\u001b[0m\u001b[0mnp\u001b[0m\u001b[1;33m.\u001b[0m\u001b[0mnan\u001b[0m\u001b[1;33m,\u001b[0m\u001b[1;36m3\u001b[0m\u001b[1;33m]\u001b[0m\u001b[1;33m}\u001b[0m\u001b[1;33m)\u001b[0m\u001b[1;33m\u001b[0m\u001b[1;33m\u001b[0m\u001b[0m\n\u001b[0m",
      "\u001b[1;31mNameError\u001b[0m: name 'pd' is not defined"
     ]
    }
   ],
   "source": [
    "df_check_null = pd.DataFrame({'A':[1,np.nan,3]})"
   ]
  },
  {
   "cell_type": "code",
   "execution_count": 9,
   "metadata": {},
   "outputs": [],
   "source": [
    "df_test_null = pd.DataFrame({'A':['a','b ','NULL']})"
   ]
  },
  {
   "cell_type": "code",
   "execution_count": 10,
   "metadata": {},
   "outputs": [],
   "source": [
    "df_test_null['A'] = df_test_null['A'].str.strip()"
   ]
  },
  {
   "cell_type": "code",
   "execution_count": 12,
   "metadata": {},
   "outputs": [],
   "source": [
    "import os"
   ]
  },
  {
   "cell_type": "code",
   "execution_count": 13,
   "metadata": {},
   "outputs": [
    {
     "data": {
      "text/plain": [
       "'c:\\\\Users\\\\L131107\\\\Downloads\\\\tech_notes'"
      ]
     },
     "execution_count": 13,
     "metadata": {},
     "output_type": "execute_result"
    }
   ],
   "source": [
    "os.getcwd()"
   ]
  },
  {
   "cell_type": "code",
   "execution_count": 69,
   "metadata": {},
   "outputs": [],
   "source": [
    "df_test_null = pd.read_excel('test_null.xlsx', dtype=object)\n",
    "# df_test_null = pd.read_excel('test_null.xlsx')"
   ]
  },
  {
   "cell_type": "code",
   "execution_count": 70,
   "metadata": {},
   "outputs": [
    {
     "data": {
      "text/plain": [
       "Batch                                                    object\n",
       "Allocated to                                             object\n",
       "Date Allocated                                           object\n",
       "EGID                                                     object\n",
       "EntityGroupName                                          object\n",
       "Adviser Salary ID                                        object\n",
       "Client Address                                           object\n",
       "Client Name                                              object\n",
       "CISKeys                                                  object\n",
       "Priority                                                 object\n",
       "Client Name Match                                        object\n",
       "SOA Found                                                object\n",
       "Date of SOA Document                             datetime64[ns]\n",
       "SOA Document Type                                        object\n",
       "SOA Document Title                                       object\n",
       "ROA Found                                                object\n",
       "BT Open ROA                                              object\n",
       "Date of ROA Document                             datetime64[ns]\n",
       "ROA Document Type                                        object\n",
       "ROA Document Title                                       object\n",
       "Detailed Review File Note Found                          object\n",
       "Date of Last Review as evidenced in File Note    datetime64[ns]\n",
       "File Note Document Type                                  object\n",
       "File Note Document Title                                 object\n",
       "ATP Found                                                object\n",
       "Date of the Referenced Plan                      datetime64[ns]\n",
       "Date of Execution (Authority To Proceed)         datetime64[ns]\n",
       "ATP Document Type                                        object\n",
       "ATP Document Title                                       object\n",
       "Neo SET Assessor Salary ID                               object\n",
       "Assessor Date Checked                            datetime64[ns]\n",
       "Comments                                                 object\n",
       "dtype: object"
      ]
     },
     "execution_count": 70,
     "metadata": {},
     "output_type": "execute_result"
    }
   ],
   "source": [
    "df_test_null.dtypes"
   ]
  },
  {
   "cell_type": "code",
   "execution_count": 68,
   "metadata": {},
   "outputs": [
    {
     "name": "stdout",
     "output_type": "stream",
     "text": [
      "Column type not right\n"
     ]
    }
   ],
   "source": [
    "# it will break when applying str method on column with float type\n",
    "try:\n",
    "    df_test_null['EntityGroupName'] = df_test_null['EntityGroupName'].str.strip()\n",
    "except AttributeError:\n",
    "    print('Column type not right')"
   ]
  },
  {
   "cell_type": "code",
   "execution_count": 71,
   "metadata": {},
   "outputs": [
    {
     "data": {
      "text/plain": [
       "array([nan], dtype=object)"
      ]
     },
     "execution_count": 71,
     "metadata": {},
     "output_type": "execute_result"
    }
   ],
   "source": [
    "df_test_null.EntityGroupName.unique()"
   ]
  },
  {
   "cell_type": "code",
   "execution_count": 65,
   "metadata": {},
   "outputs": [
    {
     "data": {
      "text/plain": [
       "0   NaN\n",
       "1   NaN\n",
       "2   NaN\n",
       "3   NaN\n",
       "4   NaN\n",
       "Name: EntityGroupName, dtype: float64"
      ]
     },
     "execution_count": 65,
     "metadata": {},
     "output_type": "execute_result"
    }
   ],
   "source": [
    "df_test_null.EntityGroupName.head()"
   ]
  },
  {
   "cell_type": "code",
   "execution_count": 87,
   "metadata": {},
   "outputs": [],
   "source": [
    "df_test_2 = pd.read_excel('test_F015819.xlsx', dtypes=object)"
   ]
  },
  {
   "cell_type": "code",
   "execution_count": 88,
   "metadata": {},
   "outputs": [],
   "source": [
    "df_test_2.EntityGroupName = df_test_2.EntityGroupName.fillna('').head()"
   ]
  },
  {
   "cell_type": "code",
   "execution_count": 89,
   "metadata": {},
   "outputs": [
    {
     "data": {
      "text/plain": [
       "Batch                                             object\n",
       "Allocated to                                      object\n",
       "Date Allocated                                    object\n",
       "EGID                                              object\n",
       "EntityGroupName                                   object\n",
       "Adviser Salary ID                                 object\n",
       "Client Address                                    object\n",
       "Client Name                                       object\n",
       "CISKeys                                           object\n",
       "Priority                                          object\n",
       "Client Name Match                                float64\n",
       "SOA Found                                        float64\n",
       "Date of SOA Document                             float64\n",
       "SOA Document Type                                float64\n",
       "SOA Document Title                               float64\n",
       "ROA Found                                        float64\n",
       "BT Open ROA                                      float64\n",
       "Date of ROA Document                             float64\n",
       "ROA Document Type                                float64\n",
       "ROA Document Title                               float64\n",
       "Detailed Review File Note Found                  float64\n",
       "Date of Last Review as evidenced in File Note    float64\n",
       "File Note Document Type                          float64\n",
       "File Note Document Title                         float64\n",
       "ATP Found                                        float64\n",
       "Date of the Referenced Plan                      float64\n",
       "Date of Execution (Authority To Proceed)         float64\n",
       "ATP Document Type                                float64\n",
       "ATP Document Title                               float64\n",
       "Neo SET Assessor Salary ID                       float64\n",
       "Assessor Date Checked                            float64\n",
       "Comments                                         float64\n",
       "dtype: object"
      ]
     },
     "execution_count": 89,
     "metadata": {},
     "output_type": "execute_result"
    }
   ],
   "source": [
    "df_test_2.dtypes"
   ]
  },
  {
   "cell_type": "code",
   "execution_count": 90,
   "metadata": {},
   "outputs": [],
   "source": [
    "df_test_2['EntityGroupName'] = df_test_2['EntityGroupName'].str.strip()"
   ]
  },
  {
   "cell_type": "code",
   "execution_count": 94,
   "metadata": {},
   "outputs": [],
   "source": [
    "from datetime import datetime"
   ]
  },
  {
   "cell_type": "code",
   "execution_count": 98,
   "metadata": {},
   "outputs": [],
   "source": [
    "now = datetime.now()"
   ]
  },
  {
   "cell_type": "code",
   "execution_count": 102,
   "metadata": {},
   "outputs": [
    {
     "name": "stdout",
     "output_type": "stream",
     "text": [
      "2020_03_11_163632: <class 'str'>\n"
     ]
    }
   ],
   "source": [
    "dt_string = now.strftime(\"%Y_%m_%d_%H%M%S\")\n",
    "print(f'{dt_string}: {type(dt_string)}')"
   ]
  },
  {
   "cell_type": "code",
   "execution_count": 11,
   "metadata": {},
   "outputs": [
    {
     "name": "stdout",
     "output_type": "stream",
     "text": "1\n28\n"
    }
   ],
   "source": [
    "t1 = pd.to_datetime('1/30/2015 01:00')\n",
    "t2 = pd.to_datetime('1/1/2015 03:30')\n",
    "\n",
    "print(t1.month)\n",
    "print(pd.Timedelta(t1 - t2).days)\n"
   ]
  },
  {
   "cell_type": "code",
   "execution_count": 133,
   "metadata": {},
   "outputs": [],
   "source": [
    "from random import randrange\n",
    "from datetime import timedelta\n",
    "\n",
    "df = pd.DataFrame([pd.date_range(start='2018-01-01', end='2019-01-01', freq='2M'), pd.date_range(start='2019-01-01', end='2020-01-01', freq='2M')], columns=list('abcdef'), )\n",
    "all_dates = dict(zip(list('abcdefgh'), pd.date_range(start='2018-01-01', end='2019-01-01', freq='2M')))"
   ]
  },
  {
   "cell_type": "code",
   "execution_count": 116,
   "metadata": {},
   "outputs": [
    {
     "data": {
      "text/html": "<div>\n<style scoped>\n    .dataframe tbody tr th:only-of-type {\n        vertical-align: middle;\n    }\n\n    .dataframe tbody tr th {\n        vertical-align: top;\n    }\n\n    .dataframe thead th {\n        text-align: right;\n    }\n</style>\n<table border=\"1\" class=\"dataframe\">\n  <thead>\n    <tr style=\"text-align: right;\">\n      <th></th>\n      <th>a</th>\n      <th>b</th>\n      <th>c</th>\n      <th>d</th>\n      <th>e</th>\n      <th>f</th>\n    </tr>\n  </thead>\n  <tbody>\n    <tr>\n      <th>0</th>\n      <td>2018-01-31</td>\n      <td>2018-03-31</td>\n      <td>2018-05-31</td>\n      <td>2018-07-31</td>\n      <td>2018-09-30</td>\n      <td>2018-11-30</td>\n    </tr>\n    <tr>\n      <th>1</th>\n      <td>2019-01-31</td>\n      <td>2019-03-31</td>\n      <td>2019-05-31</td>\n      <td>2019-07-31</td>\n      <td>2019-09-30</td>\n      <td>2019-11-30</td>\n    </tr>\n  </tbody>\n</table>\n</div>",
      "text/plain": "           a          b          c          d          e          f\n0 2018-01-31 2018-03-31 2018-05-31 2018-07-31 2018-09-30 2018-11-30\n1 2019-01-31 2019-03-31 2019-05-31 2019-07-31 2019-09-30 2019-11-30"
     },
     "execution_count": 116,
     "metadata": {},
     "output_type": "execute_result"
    }
   ],
   "source": [
    "df"
   ]
  },
  {
   "cell_type": "code",
   "execution_count": 135,
   "metadata": {},
   "outputs": [
    {
     "data": {
      "text/html": "<div>\n<style scoped>\n    .dataframe tbody tr th:only-of-type {\n        vertical-align: middle;\n    }\n\n    .dataframe tbody tr th {\n        vertical-align: top;\n    }\n\n    .dataframe thead th {\n        text-align: right;\n    }\n</style>\n<table border=\"1\" class=\"dataframe\">\n  <thead>\n    <tr style=\"text-align: right;\">\n      <th></th>\n      <th>a</th>\n      <th>b</th>\n      <th>c</th>\n      <th>d</th>\n      <th>e</th>\n      <th>f</th>\n      <th>max_date</th>\n      <th>max_date_doc</th>\n      <th>next_max_date</th>\n      <th>next_max_date_doc</th>\n    </tr>\n  </thead>\n  <tbody>\n    <tr>\n      <th>0</th>\n      <td>2018-01-31</td>\n      <td>2018-03-31</td>\n      <td>2018-05-31</td>\n      <td>2018-07-31</td>\n      <td>2018-09-30</td>\n      <td>2018-11-30</td>\n      <td>2018-11-30</td>\n      <td>f</td>\n      <td>2018-07-31</td>\n      <td>d</td>\n    </tr>\n    <tr>\n      <th>1</th>\n      <td>2019-01-31</td>\n      <td>2019-03-31</td>\n      <td>2019-05-31</td>\n      <td>2019-07-31</td>\n      <td>2019-09-30</td>\n      <td>2019-11-30</td>\n      <td>2019-11-30</td>\n      <td>f</td>\n      <td>2019-07-31</td>\n      <td>d</td>\n    </tr>\n  </tbody>\n</table>\n</div>",
      "text/plain": "           a          b          c          d          e          f  \\\n0 2018-01-31 2018-03-31 2018-05-31 2018-07-31 2018-09-30 2018-11-30   \n1 2019-01-31 2019-03-31 2019-05-31 2019-07-31 2019-09-30 2019-11-30   \n\n    max_date max_date_doc next_max_date next_max_date_doc  \n0 2018-11-30            f    2018-07-31                 d  \n1 2019-11-30            f    2019-07-31                 d  "
     },
     "execution_count": 135,
     "metadata": {},
     "output_type": "execute_result"
    }
   ],
   "source": [
    "max_date_arry = []\n",
    "max_date_doc_arry = []\n",
    "next_max_date_arry = []\n",
    "next_max_date_doc_arry = []\n",
    "cols = [x for x in df.columns.tolist() if re.match(r'\\w', x)]\n",
    "for i in df.index:\n",
    "    date_dict = df.loc[i, cols].to_dict()\n",
    "    dlr = sorted(date_dict.items(), key=lambda x:x[1])[-1]\n",
    "    max_date, max_date_doc = dlr[1], dlr[0]\n",
    "    \n",
    "\n",
    "    available_date = list(filter(lambda x: pd.Timedelta(max_date - x[1]).days >= 90, date_dict.items()))\n",
    "    \n",
    "    try:\n",
    "        next_dlr = sorted(available_date, key=lambda x: x[1])[-1]\n",
    "        next_max_date, next_max_date_doc = next_dlr[1], next_dlr[0]\n",
    "    except IndexError:\n",
    "        next_max_date, next_max_date_doc = '',''\n",
    "\n",
    "    max_date_arry.append(max_date)\n",
    "    max_date_doc_arry.append(max_date_doc)\n",
    "    next_max_date_arry.append(next_max_date)\n",
    "    next_max_date_doc_arry.append(next_max_date_doc)\n",
    "\n",
    "df=df.assign(max_date=max_date_arry,\n",
    "max_date_doc=max_date_doc_arry,\n",
    "next_max_date=next_max_date_arry,\n",
    "next_max_date_doc=next_max_date_doc_arry)\n",
    "\n",
    "df"
   ]
  },
  {
   "cell_type": "code",
   "execution_count": 52,
   "metadata": {},
   "outputs": [
    {
     "name": "stdout",
     "output_type": "stream",
     "text": "('f', Timestamp('2018-11-30 00:00:00', freq='2M'))\nf\n2018-11-30 00:00:00\n"
    }
   ],
   "source": [
    "dlr = sorted(all_dates.items(), key=lambda item:item[1])[-1]\n",
    "max_date = dlr[1]\n",
    "print(dlr)\n",
    "print(dlr[0])\n",
    "print(dlr[1])"
   ]
  },
  {
   "cell_type": "code",
   "execution_count": 59,
   "metadata": {},
   "outputs": [
    {
     "name": "stdout",
     "output_type": "stream",
     "text": "a 2018-01-31 00:00:00\nb 2018-03-31 00:00:00\nc 2018-05-31 00:00:00\nd 2018-07-31 00:00:00\n"
    }
   ],
   "source": [
    "for k,v in all_dates.items():\n",
    "    if pd.Timedelta(max_date - v).days >= 90:\n",
    "        print(k, v)\n",
    "        # print(k, v)"
   ]
  },
  {
   "cell_type": "code",
   "execution_count": 68,
   "metadata": {},
   "outputs": [
    {
     "name": "stdout",
     "output_type": "stream",
     "text": "next dlr: 31/07/2018 from d\n"
    }
   ],
   "source": [
    "available_dates = list(filter(lambda item: pd.Timedelta(max_date - item[1]).days >= 90, all_dates.items()))\n",
    "dlr2 = sorted(available_dates, key=lambda item:item[1])[-1]\n",
    "next_dlr = dlr2[1].strftime(\"%d/%m/%Y\")\n",
    "print(f'next dlr: {next_dlr} from {dlr2[0]}')"
   ]
  }
 ],
 "metadata": {
  "file_extension": ".py",
  "kernelspec": {
   "display_name": "Python 3.7.3 64-bit",
   "language": "python",
   "name": "python37364bit617322f457104630818c00db8655af95"
  },
  "language_info": {
   "codemirror_mode": {
    "name": "ipython",
    "version": 3
   },
   "file_extension": ".py",
   "mimetype": "text/x-python",
   "name": "python",
   "nbconvert_exporter": "python",
   "pygments_lexer": "ipython3",
   "version": "3.7.3-final"
  },
  "mimetype": "text/x-python",
  "name": "python",
  "npconvert_exporter": "python",
  "pygments_lexer": "ipython3",
  "version": 3
 },
 "nbformat": 4,
 "nbformat_minor": 2
}