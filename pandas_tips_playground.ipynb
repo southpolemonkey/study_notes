{
 "cells": [
  {
   "cell_type": "code",
   "execution_count": 121,
   "metadata": {},
   "outputs": [],
   "source": [
    "import pandas as pd\n",
    "import numpy as np\n",
    "import re"
   ]
  },
  {
   "cell_type": "code",
   "execution_count": 20,
   "metadata": {},
   "outputs": [],
   "source": [
    "# dataframe.expanding()\n",
    "# The method works similiar to cummulative calculation\n",
    "# df = pd.DataFrame(np.random.randint(0,10,size=(100,1)), columns=list('A'))\n",
    "df = pd.DataFrame({'A':[x for x in range(20)], 'B':[x*x for x in range(20)]})"
   ]
  },
  {
   "cell_type": "code",
   "execution_count": 19,
   "metadata": {},
   "outputs": [
    {
     "data": {
      "text/html": [
       "<div>\n",
       "<style scoped>\n",
       "    .dataframe tbody tr th:only-of-type {\n",
       "        vertical-align: middle;\n",
       "    }\n",
       "\n",
       "    .dataframe tbody tr th {\n",
       "        vertical-align: top;\n",
       "    }\n",
       "\n",
       "    .dataframe thead th {\n",
       "        text-align: right;\n",
       "    }\n",
       "</style>\n",
       "<table border=\"1\" class=\"dataframe\">\n",
       "  <thead>\n",
       "    <tr style=\"text-align: right;\">\n",
       "      <th></th>\n",
       "      <th>A</th>\n",
       "      <th>B</th>\n",
       "    </tr>\n",
       "  </thead>\n",
       "  <tbody>\n",
       "    <tr>\n",
       "      <th>0</th>\n",
       "      <td>0.0</td>\n",
       "      <td>0.0</td>\n",
       "    </tr>\n",
       "    <tr>\n",
       "      <th>1</th>\n",
       "      <td>1.0</td>\n",
       "      <td>2.0</td>\n",
       "    </tr>\n",
       "    <tr>\n",
       "      <th>2</th>\n",
       "      <td>2.0</td>\n",
       "      <td>6.0</td>\n",
       "    </tr>\n",
       "    <tr>\n",
       "      <th>3</th>\n",
       "      <td>3.0</td>\n",
       "      <td>12.0</td>\n",
       "    </tr>\n",
       "    <tr>\n",
       "      <th>4</th>\n",
       "      <td>4.0</td>\n",
       "      <td>20.0</td>\n",
       "    </tr>\n",
       "    <tr>\n",
       "      <th>5</th>\n",
       "      <td>5.0</td>\n",
       "      <td>30.0</td>\n",
       "    </tr>\n",
       "    <tr>\n",
       "      <th>6</th>\n",
       "      <td>6.0</td>\n",
       "      <td>42.0</td>\n",
       "    </tr>\n",
       "    <tr>\n",
       "      <th>7</th>\n",
       "      <td>7.0</td>\n",
       "      <td>56.0</td>\n",
       "    </tr>\n",
       "    <tr>\n",
       "      <th>8</th>\n",
       "      <td>8.0</td>\n",
       "      <td>72.0</td>\n",
       "    </tr>\n",
       "    <tr>\n",
       "      <th>9</th>\n",
       "      <td>9.0</td>\n",
       "      <td>90.0</td>\n",
       "    </tr>\n",
       "    <tr>\n",
       "      <th>10</th>\n",
       "      <td>10.0</td>\n",
       "      <td>110.0</td>\n",
       "    </tr>\n",
       "    <tr>\n",
       "      <th>11</th>\n",
       "      <td>11.0</td>\n",
       "      <td>132.0</td>\n",
       "    </tr>\n",
       "    <tr>\n",
       "      <th>12</th>\n",
       "      <td>12.0</td>\n",
       "      <td>156.0</td>\n",
       "    </tr>\n",
       "    <tr>\n",
       "      <th>13</th>\n",
       "      <td>13.0</td>\n",
       "      <td>182.0</td>\n",
       "    </tr>\n",
       "    <tr>\n",
       "      <th>14</th>\n",
       "      <td>14.0</td>\n",
       "      <td>210.0</td>\n",
       "    </tr>\n",
       "    <tr>\n",
       "      <th>15</th>\n",
       "      <td>15.0</td>\n",
       "      <td>240.0</td>\n",
       "    </tr>\n",
       "    <tr>\n",
       "      <th>16</th>\n",
       "      <td>16.0</td>\n",
       "      <td>272.0</td>\n",
       "    </tr>\n",
       "    <tr>\n",
       "      <th>17</th>\n",
       "      <td>17.0</td>\n",
       "      <td>306.0</td>\n",
       "    </tr>\n",
       "    <tr>\n",
       "      <th>18</th>\n",
       "      <td>18.0</td>\n",
       "      <td>342.0</td>\n",
       "    </tr>\n",
       "    <tr>\n",
       "      <th>19</th>\n",
       "      <td>19.0</td>\n",
       "      <td>380.0</td>\n",
       "    </tr>\n",
       "  </tbody>\n",
       "</table>\n",
       "</div>"
      ],
      "text/plain": [
       "       A      B\n",
       "0    0.0    0.0\n",
       "1    1.0    2.0\n",
       "2    2.0    6.0\n",
       "3    3.0   12.0\n",
       "4    4.0   20.0\n",
       "5    5.0   30.0\n",
       "6    6.0   42.0\n",
       "7    7.0   56.0\n",
       "8    8.0   72.0\n",
       "9    9.0   90.0\n",
       "10  10.0  110.0\n",
       "11  11.0  132.0\n",
       "12  12.0  156.0\n",
       "13  13.0  182.0\n",
       "14  14.0  210.0\n",
       "15  15.0  240.0\n",
       "16  16.0  272.0\n",
       "17  17.0  306.0\n",
       "18  18.0  342.0\n",
       "19  19.0  380.0"
      ]
     },
     "execution_count": 19,
     "metadata": {},
     "output_type": "execute_result"
    }
   ],
   "source": [
    "df.expanding(min_periods=1, axis=1).sum()"
   ]
  },
  {
   "cell_type": "code",
   "execution_count": 23,
   "metadata": {},
   "outputs": [],
   "source": [
    "# dataframe.rolling()\n",
    "df_rolling = pd.DataFrame({'B': [0, 1, 2, np.nan, 4]},\n",
    "                  index = [pd.Timestamp('20130101 09:00:00'),\n",
    "                           pd.Timestamp('20130101 09:00:02'),\n",
    "                           pd.Timestamp('20130101 09:00:03'),\n",
    "                           pd.Timestamp('20130101 09:00:05'),\n",
    "                           pd.Timestamp('20130101 09:00:06')])\n"
   ]
  },
  {
   "cell_type": "code",
   "execution_count": 28,
   "metadata": {},
   "outputs": [
    {
     "data": {
      "text/html": [
       "<div>\n",
       "<style scoped>\n",
       "    .dataframe tbody tr th:only-of-type {\n",
       "        vertical-align: middle;\n",
       "    }\n",
       "\n",
       "    .dataframe tbody tr th {\n",
       "        vertical-align: top;\n",
       "    }\n",
       "\n",
       "    .dataframe thead th {\n",
       "        text-align: right;\n",
       "    }\n",
       "</style>\n",
       "<table border=\"1\" class=\"dataframe\">\n",
       "  <thead>\n",
       "    <tr style=\"text-align: right;\">\n",
       "      <th></th>\n",
       "      <th>B</th>\n",
       "    </tr>\n",
       "  </thead>\n",
       "  <tbody>\n",
       "    <tr>\n",
       "      <th>2013-01-01 09:00:00</th>\n",
       "      <td>NaN</td>\n",
       "    </tr>\n",
       "    <tr>\n",
       "      <th>2013-01-01 09:00:02</th>\n",
       "      <td>NaN</td>\n",
       "    </tr>\n",
       "    <tr>\n",
       "      <th>2013-01-01 09:00:03</th>\n",
       "      <td>3.0</td>\n",
       "    </tr>\n",
       "    <tr>\n",
       "      <th>2013-01-01 09:00:05</th>\n",
       "      <td>NaN</td>\n",
       "    </tr>\n",
       "    <tr>\n",
       "      <th>2013-01-01 09:00:06</th>\n",
       "      <td>NaN</td>\n",
       "    </tr>\n",
       "  </tbody>\n",
       "</table>\n",
       "</div>"
      ],
      "text/plain": [
       "                       B\n",
       "2013-01-01 09:00:00  NaN\n",
       "2013-01-01 09:00:02  NaN\n",
       "2013-01-01 09:00:03  3.0\n",
       "2013-01-01 09:00:05  NaN\n",
       "2013-01-01 09:00:06  NaN"
      ]
     },
     "execution_count": 28,
     "metadata": {},
     "output_type": "execute_result"
    }
   ],
   "source": [
    "df_rolling.rolling('2s', min_periods=2).sum()"
   ]
  },
  {
   "cell_type": "code",
   "execution_count": 3,
   "metadata": {},
   "outputs": [],
   "source": [
    "df_apply = pd.DataFrame({'All Date Consistent':['Consistent','Not Consistent','Consistent','Not Consistent'],\n",
    "'For Ingest':['Y','Y','N','N']})"
   ]
  },
  {
   "cell_type": "code",
   "execution_count": 7,
   "metadata": {},
   "outputs": [],
   "source": [
    "\n",
    "def ingest_reason(df):\n",
    "    if df['All Date Consistent'] == 'Consistent' and df['For Ingest'] == 'Y':\n",
    "        return 'Ingest: True Consistent'\n",
    "    elif df['All Date Consistent'] == 'Not Consistent' and df['For Ingest'] == 'Y' and df['exists_both']='both':\n",
    "        return 'Ingest: Business Consistent'\n",
    "    elif df['All Date Consistent'] == 'Not Consistent' and df['For Ingest'] == 'N' and df['exists_both']='left':\n",
    "        return 'No Ingest: Tehcnical Lead Review'\n",
    "    else:\n",
    "        return 'No Ingest: Single Reviewer'"
   ]
  },
  {
   "cell_type": "code",
   "execution_count": 8,
   "metadata": {},
   "outputs": [
    {
     "data": {
      "text/html": [
       "<div>\n",
       "<style scoped>\n",
       "    .dataframe tbody tr th:only-of-type {\n",
       "        vertical-align: middle;\n",
       "    }\n",
       "\n",
       "    .dataframe tbody tr th {\n",
       "        vertical-align: top;\n",
       "    }\n",
       "\n",
       "    .dataframe thead th {\n",
       "        text-align: right;\n",
       "    }\n",
       "</style>\n",
       "<table border=\"1\" class=\"dataframe\">\n",
       "  <thead>\n",
       "    <tr style=\"text-align: right;\">\n",
       "      <th></th>\n",
       "      <th>All Date Consistent</th>\n",
       "      <th>For Ingest</th>\n",
       "      <th>Ingest Reason</th>\n",
       "    </tr>\n",
       "  </thead>\n",
       "  <tbody>\n",
       "    <tr>\n",
       "      <th>0</th>\n",
       "      <td>Consistent</td>\n",
       "      <td>Y</td>\n",
       "      <td>Ingest: True Consistent</td>\n",
       "    </tr>\n",
       "    <tr>\n",
       "      <th>1</th>\n",
       "      <td>Not Consistent</td>\n",
       "      <td>Y</td>\n",
       "      <td>Ingest: Business Consistent</td>\n",
       "    </tr>\n",
       "    <tr>\n",
       "      <th>2</th>\n",
       "      <td>Consistent</td>\n",
       "      <td>N</td>\n",
       "      <td>No Ingest: Single Reviewer</td>\n",
       "    </tr>\n",
       "    <tr>\n",
       "      <th>3</th>\n",
       "      <td>Not Consistent</td>\n",
       "      <td>N</td>\n",
       "      <td>No Ingest: Tehcnical Lead Review</td>\n",
       "    </tr>\n",
       "  </tbody>\n",
       "</table>\n",
       "</div>"
      ],
      "text/plain": [
       "  All Date Consistent For Ingest                     Ingest Reason\n",
       "0          Consistent          Y           Ingest: True Consistent\n",
       "1      Not Consistent          Y       Ingest: Business Consistent\n",
       "2          Consistent          N        No Ingest: Single Reviewer\n",
       "3      Not Consistent          N  No Ingest: Tehcnical Lead Review"
      ]
     },
     "execution_count": 8,
     "metadata": {},
     "output_type": "execute_result"
    }
   ],
   "source": [
    "df_apply['Ingest Reason'] = df_apply.apply(ingest_reason, axis=1)\n",
    "df_apply"
   ]
  },
  {
   "cell_type": "code",
   "execution_count": 1,
   "metadata": {},
   "outputs": [
    {
     "ename": "NameError",
     "evalue": "name 'pd' is not defined",
     "output_type": "error",
     "traceback": [
      "\u001b[1;31m---------------------------------------------------------------------------\u001b[0m",
      "\u001b[1;31mNameError\u001b[0m                                 Traceback (most recent call last)",
      "\u001b[1;32m<ipython-input-1-c1647be83181>\u001b[0m in \u001b[0;36m<module>\u001b[1;34m\u001b[0m\n\u001b[1;32m----> 1\u001b[1;33m \u001b[0mdf_check_null\u001b[0m \u001b[1;33m=\u001b[0m \u001b[0mpd\u001b[0m\u001b[1;33m.\u001b[0m\u001b[0mDataFrame\u001b[0m\u001b[1;33m(\u001b[0m\u001b[1;33m{\u001b[0m\u001b[1;34m'A'\u001b[0m\u001b[1;33m:\u001b[0m\u001b[1;33m[\u001b[0m\u001b[1;36m1\u001b[0m\u001b[1;33m,\u001b[0m\u001b[0mnp\u001b[0m\u001b[1;33m.\u001b[0m\u001b[0mnan\u001b[0m\u001b[1;33m,\u001b[0m\u001b[1;36m3\u001b[0m\u001b[1;33m]\u001b[0m\u001b[1;33m}\u001b[0m\u001b[1;33m)\u001b[0m\u001b[1;33m\u001b[0m\u001b[1;33m\u001b[0m\u001b[0m\n\u001b[0m",
      "\u001b[1;31mNameError\u001b[0m: name 'pd' is not defined"
     ]
    }
   ],
   "source": [
    "df_check_null = pd.DataFrame({'A':[1,np.nan,3]})"
   ]
  },
  {
   "cell_type": "code",
   "execution_count": 11,
   "metadata": {},
   "outputs": [],
   "source": [
    "df_test = pd.DataFrame({'derive_s_date':['2020/01/01','2020/01/01'],\n",
    "          'derive_e_date':['2020/02/01','2020/02/01'],\n",
    "          'soa':['2020/01/10','2020/03/01'],\n",
    "          'roa':['2020/01/15','2020/04/01']}, dtype='datetime64[ns]')"
   ]
  },
  {
   "cell_type": "code",
   "execution_count": 10,
   "metadata": {},
   "outputs": [],
   "source": [
    "df_test_null['A'] = df_test_null['A'].str.strip()"
   ]
  },
  {
   "cell_type": "code",
   "execution_count": 12,
   "metadata": {},
   "outputs": [],
   "source": [
    "import os"
   ]
  },
  {
   "cell_type": "code",
   "execution_count": 13,
   "metadata": {},
   "outputs": [
    {
     "data": {
      "text/html": [
       "<div>\n",
       "<style scoped>\n",
       "    .dataframe tbody tr th:only-of-type {\n",
       "        vertical-align: middle;\n",
       "    }\n",
       "\n",
       "    .dataframe tbody tr th {\n",
       "        vertical-align: top;\n",
       "    }\n",
       "\n",
       "    .dataframe thead th {\n",
       "        text-align: right;\n",
       "    }\n",
       "</style>\n",
       "<table border=\"1\" class=\"dataframe\">\n",
       "  <thead>\n",
       "    <tr style=\"text-align: right;\">\n",
       "      <th></th>\n",
       "      <th>derive_s_date</th>\n",
       "      <th>derive_e_date</th>\n",
       "      <th>soa</th>\n",
       "      <th>roa</th>\n",
       "    </tr>\n",
       "  </thead>\n",
       "  <tbody>\n",
       "    <tr>\n",
       "      <th>0</th>\n",
       "      <td>2020-01-01</td>\n",
       "      <td>2020-02-01</td>\n",
       "      <td>2020-01-10</td>\n",
       "      <td>2020-01-15</td>\n",
       "    </tr>\n",
       "    <tr>\n",
       "      <th>1</th>\n",
       "      <td>2020-01-01</td>\n",
       "      <td>2020-02-01</td>\n",
       "      <td>1990-01-01</td>\n",
       "      <td>1990-01-01</td>\n",
       "    </tr>\n",
       "  </tbody>\n",
       "</table>\n",
       "</div>"
      ],
      "text/plain": [
       "  derive_s_date derive_e_date        soa        roa\n",
       "0    2020-01-01    2020-02-01 2020-01-10 2020-01-15\n",
       "1    2020-01-01    2020-02-01 1990-01-01 1990-01-01"
      ]
     },
     "execution_count": 26,
     "metadata": {},
     "output_type": "execute_result"
    }
   ],
   "source": [
    "df_test"
   ]
  },
  {
   "cell_type": "code",
   "execution_count": 69,
   "metadata": {},
   "outputs": [],
   "source": [
    "df_test_null = pd.read_excel('test_null.xlsx', dtype=object)\n",
    "# df_test_null = pd.read_excel('test_null.xlsx')"
   ]
  },
  {
   "cell_type": "code",
   "execution_count": 23,
   "metadata": {},
   "outputs": [],
   "source": [
    "def convert(col):\n",
    "    df[col] = df.apply(lambda x:x[col] if (x['derive_s_date'] < x[col])&(x['derive_e_date']>x[col]) else pd.to_datetime('1990/01/01'), axis=1)\n",
    "    return df"
   ]
  },
  {
   "cell_type": "code",
   "execution_count": 25,
   "metadata": {},
   "outputs": [],
   "source": [
    "for col in ['soa','roa']:\n",
    "    df_test[col] = df_test.apply(lambda x:x[col] if (x['derive_s_date'] < x[col])&(x['derive_e_date']>x[col]) else pd.to_datetime('1990/01/01'), axis=1)"
   ]
  },
  {
   "cell_type": "code",
   "execution_count": 31,
   "metadata": {},
   "outputs": [
    {
     "name": "stdout",
     "output_type": "stream",
     "text": [
      "total 112\r\n",
      "-rw-r--r--@ 1 chenxuanrong  staff   1.0K Feb 20 09:42 LICENSE\r\n",
      "-rw-r--r--@ 1 chenxuanrong  staff   1.3K Feb 24 22:52 ds.md\r\n",
      "-rw-r--r--@ 1 chenxuanrong  staff   496B Feb 20 09:42 git.md\r\n",
      "-rw-r--r--@ 1 chenxuanrong  staff   353B Feb 23 13:51 golang.md\r\n",
      "-rw-r--r--@ 1 chenxuanrong  staff   354B Feb 20 09:42 network.md\r\n",
      "-rw-r--r--@ 1 chenxuanrong  staff   1.2K Mar  6 16:32 pandas_snippet.md\r\n",
      "-rw-r--r--@ 1 chenxuanrong  staff    15K Mar  6 16:35 pandas_tips_playground.ipynb\r\n",
      "-rw-r--r--@ 1 chenxuanrong  staff   216B Feb 26 15:47 property.md\r\n",
      "-rw-r--r--@ 1 chenxuanrong  staff   2.1K Mar  6 16:33 python.md\r\n",
      "drwxr-xr-x@ 4 chenxuanrong  staff   128B Feb 20 09:42 \u001b[1m\u001b[36mslides\u001b[m\u001b[m\r\n",
      "-rw-r--r--@ 1 chenxuanrong  staff   278B Feb 20 09:42 sql_tricks.md\r\n",
      "-rw-r--r--@ 1 chenxuanrong  staff   2.1K Feb 20 09:42 test_knowledge.md\r\n"
     ]
    }
   ],
   "source": [
    "dt_string = now.strftime(\"%Y_%m_%d_%H%M%S\")\n",
    "print(f'{dt_string}: {type(dt_string)}')"
   ]
  },
  {
   "cell_type": "code",
   "execution_count": 61,
   "metadata": {},
   "outputs": [
    {
     "name": "stdout",
     "output_type": "stream",
     "text": [
      "sql_tricks.md                    : 0.27 KB\n",
      "golang.md                        : 0.34 KB\n",
      "ds.md                            : 1.26 KB\n",
      "network.md                       : 0.35 KB\n",
      "python.md                        : 2.15 KB\n",
      "LICENSE                          : 1.05 KB\n",
      "pandas_snippet.md                : 1.23 KB\n",
      "pandas_tips_playground.ipynb     : 18.15 KB\n",
      "slides                           : 0.12 KB\n",
      "property.md                      : 0.21 KB\n",
      "git.md                           : 0.48 KB\n",
      ".ipynb_checkpoints               : 0.09 KB\n",
      ".git                             : 0.41 KB\n",
      "test_knowledge.md                : 2.09 KB\n"
     ]
    }
   ],
   "source": [
    "max_file_name = max([len(file) for file in os.listdir()])+5\n",
    "\n",
    "for file in os.listdir():\n",
    "    file_size = os.path.getsize(file)/1024\n",
    "    print(f'{file:<{max_file_name}}: {file_size:.2f} KB')"
   ]
  }
 ],
 "metadata": {
  "file_extension": ".py",
  "kernelspec": {
   "display_name": "Python 3",
   "language": "python",
   "name": "python3"
  },
  "language_info": {
   "codemirror_mode": {
    "name": "ipython",
    "version": 3
   },
   "file_extension": ".py",
   "mimetype": "text/x-python",
   "name": "python",
   "nbconvert_exporter": "python",
   "pygments_lexer": "ipython3",
   "version": "3.6.5"
  },
  "mimetype": "text/x-python",
  "name": "python",
  "npconvert_exporter": "python",
  "pygments_lexer": "ipython3",
  "version": 3
 },
 "nbformat": 4,
 "nbformat_minor": 2
}
